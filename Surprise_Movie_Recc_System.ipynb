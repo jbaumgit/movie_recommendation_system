{
 "cells": [
  {
   "cell_type": "markdown",
   "metadata": {},
   "source": [
    "![\"Movies\"](Images\\title.png)"
   ]
  },
  {
   "cell_type": "markdown",
   "metadata": {},
   "source": [
    "# Flixnet Recommendation System"
   ]
  },
  {
   "cell_type": "code",
   "execution_count": 1,
   "metadata": {},
   "outputs": [],
   "source": [
    "import pandas as pd\n",
    "import numpy as np\n",
    "import matplotlib.pyplot as plt\n",
    "import seaborn as sns\n",
    "import datetime as dt\n",
    "\n",
    "import surprise\n",
    "from surprise.prediction_algorithms import *\n",
    "from surprise import accuracy, Dataset, Reader, BaselineOnly\n",
    "\n",
    "from surprise.model_selection import cross_validate, train_test_split\n",
    "from surprise.prediction_algorithms import SVD\n",
    "from surprise.prediction_algorithms import KNNWithMeans, KNNBasic, KNNBaseline, NMF\n",
    "from surprise.model_selection import GridSearchCV\n"
   ]
  },
  {
   "cell_type": "markdown",
   "metadata": {},
   "source": [
    "## Business Problem"
   ]
  },
  {
   "cell_type": "markdown",
   "metadata": {},
   "source": [
    "Flixnet is a large movie streaming platform that draws in many users every day. We are tasked with creating an app that recommends movies based on user ratings for the 20 most rated films on the platform. Based on the rating of these 20 films, we use ML to test and build the best model that provides the top 5 movie recommendations. "
   ]
  },
  {
   "cell_type": "markdown",
   "metadata": {},
   "source": [
    "## Data Exploration"
   ]
  },
  {
   "cell_type": "code",
   "execution_count": 2,
   "metadata": {},
   "outputs": [],
   "source": [
    "links_df = pd.read_csv('data/links.csv')\n",
    "movies_df = pd.read_csv('data/movies.csv')\n",
    "ratings_df = pd.read_csv('data/ratings.csv')\n",
    "tags_df = pd.read_csv('data/tags.csv')"
   ]
  },
  {
   "cell_type": "code",
   "execution_count": 3,
   "metadata": {
    "collapsed": true
   },
   "outputs": [
    {
     "data": {
      "text/html": [
       "<div>\n",
       "<style scoped>\n",
       "    .dataframe tbody tr th:only-of-type {\n",
       "        vertical-align: middle;\n",
       "    }\n",
       "\n",
       "    .dataframe tbody tr th {\n",
       "        vertical-align: top;\n",
       "    }\n",
       "\n",
       "    .dataframe thead th {\n",
       "        text-align: right;\n",
       "    }\n",
       "</style>\n",
       "<table border=\"1\" class=\"dataframe\">\n",
       "  <thead>\n",
       "    <tr style=\"text-align: right;\">\n",
       "      <th></th>\n",
       "      <th>userId</th>\n",
       "      <th>movieId</th>\n",
       "      <th>tag</th>\n",
       "      <th>timestamp</th>\n",
       "    </tr>\n",
       "  </thead>\n",
       "  <tbody>\n",
       "    <tr>\n",
       "      <th>0</th>\n",
       "      <td>2</td>\n",
       "      <td>60756</td>\n",
       "      <td>funny</td>\n",
       "      <td>1445714994</td>\n",
       "    </tr>\n",
       "    <tr>\n",
       "      <th>1</th>\n",
       "      <td>2</td>\n",
       "      <td>60756</td>\n",
       "      <td>Highly quotable</td>\n",
       "      <td>1445714996</td>\n",
       "    </tr>\n",
       "    <tr>\n",
       "      <th>2</th>\n",
       "      <td>2</td>\n",
       "      <td>60756</td>\n",
       "      <td>will ferrell</td>\n",
       "      <td>1445714992</td>\n",
       "    </tr>\n",
       "    <tr>\n",
       "      <th>3</th>\n",
       "      <td>2</td>\n",
       "      <td>89774</td>\n",
       "      <td>Boxing story</td>\n",
       "      <td>1445715207</td>\n",
       "    </tr>\n",
       "    <tr>\n",
       "      <th>4</th>\n",
       "      <td>2</td>\n",
       "      <td>89774</td>\n",
       "      <td>MMA</td>\n",
       "      <td>1445715200</td>\n",
       "    </tr>\n",
       "  </tbody>\n",
       "</table>\n",
       "</div>"
      ],
      "text/plain": [
       "   userId  movieId              tag   timestamp\n",
       "0       2    60756            funny  1445714994\n",
       "1       2    60756  Highly quotable  1445714996\n",
       "2       2    60756     will ferrell  1445714992\n",
       "3       2    89774     Boxing story  1445715207\n",
       "4       2    89774              MMA  1445715200"
      ]
     },
     "execution_count": 3,
     "metadata": {},
     "output_type": "execute_result"
    }
   ],
   "source": [
    "links_df.head()\n",
    "movies_df.head()\n",
    "ratings_df.head()\n",
    "tags_df.head()"
   ]
  },
  {
   "cell_type": "code",
   "execution_count": 4,
   "metadata": {
    "collapsed": true
   },
   "outputs": [
    {
     "name": "stdout",
     "output_type": "stream",
     "text": [
      "<class 'pandas.core.frame.DataFrame'>\n",
      "RangeIndex: 9742 entries, 0 to 9741\n",
      "Data columns (total 3 columns):\n",
      " #   Column   Non-Null Count  Dtype  \n",
      "---  ------   --------------  -----  \n",
      " 0   movieId  9742 non-null   int64  \n",
      " 1   imdbId   9742 non-null   int64  \n",
      " 2   tmdbId   9734 non-null   float64\n",
      "dtypes: float64(1), int64(2)\n",
      "memory usage: 228.5 KB\n",
      "<class 'pandas.core.frame.DataFrame'>\n",
      "RangeIndex: 9742 entries, 0 to 9741\n",
      "Data columns (total 3 columns):\n",
      " #   Column   Non-Null Count  Dtype \n",
      "---  ------   --------------  ----- \n",
      " 0   movieId  9742 non-null   int64 \n",
      " 1   title    9742 non-null   object\n",
      " 2   genres   9742 non-null   object\n",
      "dtypes: int64(1), object(2)\n",
      "memory usage: 228.5+ KB\n",
      "<class 'pandas.core.frame.DataFrame'>\n",
      "RangeIndex: 100836 entries, 0 to 100835\n",
      "Data columns (total 4 columns):\n",
      " #   Column     Non-Null Count   Dtype  \n",
      "---  ------     --------------   -----  \n",
      " 0   userId     100836 non-null  int64  \n",
      " 1   movieId    100836 non-null  int64  \n",
      " 2   rating     100836 non-null  float64\n",
      " 3   timestamp  100836 non-null  int64  \n",
      "dtypes: float64(1), int64(3)\n",
      "memory usage: 3.1 MB\n",
      "<class 'pandas.core.frame.DataFrame'>\n",
      "RangeIndex: 3683 entries, 0 to 3682\n",
      "Data columns (total 4 columns):\n",
      " #   Column     Non-Null Count  Dtype \n",
      "---  ------     --------------  ----- \n",
      " 0   userId     3683 non-null   int64 \n",
      " 1   movieId    3683 non-null   int64 \n",
      " 2   tag        3683 non-null   object\n",
      " 3   timestamp  3683 non-null   int64 \n",
      "dtypes: int64(3), object(1)\n",
      "memory usage: 115.2+ KB\n"
     ]
    }
   ],
   "source": [
    "links_df.info()\n",
    "movies_df.info()\n",
    "ratings_df.info()\n",
    "tags_df.info()"
   ]
  },
  {
   "cell_type": "markdown",
   "metadata": {},
   "source": [
    "We are most intested in ratings_df as it contains all the relevant columns."
   ]
  },
  {
   "cell_type": "code",
   "execution_count": 5,
   "metadata": {},
   "outputs": [
    {
     "data": {
      "text/html": [
       "<div>\n",
       "<style scoped>\n",
       "    .dataframe tbody tr th:only-of-type {\n",
       "        vertical-align: middle;\n",
       "    }\n",
       "\n",
       "    .dataframe tbody tr th {\n",
       "        vertical-align: top;\n",
       "    }\n",
       "\n",
       "    .dataframe thead th {\n",
       "        text-align: right;\n",
       "    }\n",
       "</style>\n",
       "<table border=\"1\" class=\"dataframe\">\n",
       "  <thead>\n",
       "    <tr style=\"text-align: right;\">\n",
       "      <th></th>\n",
       "      <th>userId</th>\n",
       "      <th>movieId</th>\n",
       "      <th>rating</th>\n",
       "      <th>timestamp</th>\n",
       "    </tr>\n",
       "  </thead>\n",
       "  <tbody>\n",
       "    <tr>\n",
       "      <th>count</th>\n",
       "      <td>100836.000000</td>\n",
       "      <td>100836.000000</td>\n",
       "      <td>100836.000000</td>\n",
       "      <td>1.008360e+05</td>\n",
       "    </tr>\n",
       "    <tr>\n",
       "      <th>mean</th>\n",
       "      <td>326.127564</td>\n",
       "      <td>19435.295718</td>\n",
       "      <td>3.501557</td>\n",
       "      <td>1.205946e+09</td>\n",
       "    </tr>\n",
       "    <tr>\n",
       "      <th>std</th>\n",
       "      <td>182.618491</td>\n",
       "      <td>35530.987199</td>\n",
       "      <td>1.042529</td>\n",
       "      <td>2.162610e+08</td>\n",
       "    </tr>\n",
       "    <tr>\n",
       "      <th>min</th>\n",
       "      <td>1.000000</td>\n",
       "      <td>1.000000</td>\n",
       "      <td>0.500000</td>\n",
       "      <td>8.281246e+08</td>\n",
       "    </tr>\n",
       "    <tr>\n",
       "      <th>25%</th>\n",
       "      <td>177.000000</td>\n",
       "      <td>1199.000000</td>\n",
       "      <td>3.000000</td>\n",
       "      <td>1.019124e+09</td>\n",
       "    </tr>\n",
       "    <tr>\n",
       "      <th>50%</th>\n",
       "      <td>325.000000</td>\n",
       "      <td>2991.000000</td>\n",
       "      <td>3.500000</td>\n",
       "      <td>1.186087e+09</td>\n",
       "    </tr>\n",
       "    <tr>\n",
       "      <th>75%</th>\n",
       "      <td>477.000000</td>\n",
       "      <td>8122.000000</td>\n",
       "      <td>4.000000</td>\n",
       "      <td>1.435994e+09</td>\n",
       "    </tr>\n",
       "    <tr>\n",
       "      <th>max</th>\n",
       "      <td>610.000000</td>\n",
       "      <td>193609.000000</td>\n",
       "      <td>5.000000</td>\n",
       "      <td>1.537799e+09</td>\n",
       "    </tr>\n",
       "  </tbody>\n",
       "</table>\n",
       "</div>"
      ],
      "text/plain": [
       "              userId        movieId         rating     timestamp\n",
       "count  100836.000000  100836.000000  100836.000000  1.008360e+05\n",
       "mean      326.127564   19435.295718       3.501557  1.205946e+09\n",
       "std       182.618491   35530.987199       1.042529  2.162610e+08\n",
       "min         1.000000       1.000000       0.500000  8.281246e+08\n",
       "25%       177.000000    1199.000000       3.000000  1.019124e+09\n",
       "50%       325.000000    2991.000000       3.500000  1.186087e+09\n",
       "75%       477.000000    8122.000000       4.000000  1.435994e+09\n",
       "max       610.000000  193609.000000       5.000000  1.537799e+09"
      ]
     },
     "execution_count": 5,
     "metadata": {},
     "output_type": "execute_result"
    }
   ],
   "source": [
    "ratings_df.describe()"
   ]
  },
  {
   "cell_type": "code",
   "execution_count": 6,
   "metadata": {},
   "outputs": [
    {
     "name": "stdout",
     "output_type": "stream",
     "text": [
      "userIds 610\n",
      "movieIds 9724\n"
     ]
    }
   ],
   "source": [
    "print(\"userIds\", ratings_df['userId'].nunique())\n",
    "print(\"movieIds\", ratings_df['movieId'].nunique())"
   ]
  },
  {
   "cell_type": "markdown",
   "metadata": {},
   "source": [
    "We have 610 unique users and 9724 different movies"
   ]
  },
  {
   "cell_type": "code",
   "execution_count": 7,
   "metadata": {
    "collapsed": true
   },
   "outputs": [
    {
     "data": {
      "text/plain": [
       "0          964982703\n",
       "1          964981247\n",
       "2          964982224\n",
       "3          964983815\n",
       "4          964982931\n",
       "             ...    \n",
       "100831    1493848402\n",
       "100832    1493850091\n",
       "100833    1494273047\n",
       "100834    1493846352\n",
       "100835    1493846415\n",
       "Name: timestamp, Length: 100836, dtype: int64"
      ]
     },
     "execution_count": 7,
     "metadata": {},
     "output_type": "execute_result"
    }
   ],
   "source": [
    "ratings_df['timestamp']"
   ]
  },
  {
   "cell_type": "markdown",
   "metadata": {},
   "source": [
    "### Dealing with SuperUsers:\n",
    "\n"
   ]
  },
  {
   "cell_type": "code",
   "execution_count": 8,
   "metadata": {},
   "outputs": [
    {
     "data": {
      "text/plain": [
       "userId\n",
       "414    2698\n",
       "599    2478\n",
       "474    2108\n",
       "448    1864\n",
       "274    1346\n",
       "       ... \n",
       "442      20\n",
       "569      20\n",
       "320      20\n",
       "576      20\n",
       "53       20\n",
       "Name: count, Length: 610, dtype: int64"
      ]
     },
     "execution_count": 8,
     "metadata": {},
     "output_type": "execute_result"
    }
   ],
   "source": [
    "ratings_df['userId'].value_counts()\n",
    "\n",
    "sp = ratings_df['userId'].value_counts()\n",
    "sp"
   ]
  },
  {
   "cell_type": "markdown",
   "metadata": {},
   "source": [
    "Superusers are users who have reviewed more than 500 films. We choose this cut off based off of this histogram:"
   ]
  },
  {
   "cell_type": "code",
   "execution_count": 9,
   "metadata": {},
   "outputs": [
    {
     "data": {
      "image/png": "[encoded data removed]",
      "text/plain": [
       "<Figure size 432x288 with 1 Axes>"
      ]
     },
     "metadata": {
      "needs_background": "light"
     },
     "output_type": "display_data"
    }
   ],
   "source": [
    "ax = sns.histplot(ratings_df[\"userId\"].value_counts(), color=\"red\", )\n",
    "plt.xlabel('Ratings per User')\n",
    "plt.ylabel('Total Users')\n",
    "plt.title('Superusers Rate over 500 Films')\n",
    "plt.show();"
   ]
  },
  {
   "cell_type": "code",
   "execution_count": 10,
   "metadata": {},
   "outputs": [],
   "source": [
    "#this removes superusers from ratings_df\n",
    "ratings_df_nosuper = ratings_df[ratings_df.groupby('userId')['userId'].transform('size') < 500]"
   ]
  },
  {
   "cell_type": "code",
   "execution_count": 11,
   "metadata": {},
   "outputs": [
    {
     "data": {
      "text/plain": [
       "userId\n",
       "57     476\n",
       "381    474\n",
       "368    469\n",
       "509    467\n",
       "469    465\n",
       "      ... \n",
       "576     20\n",
       "431     20\n",
       "257     20\n",
       "442     20\n",
       "278     20\n",
       "Name: count, Length: 566, dtype: int64"
      ]
     },
     "execution_count": 11,
     "metadata": {},
     "output_type": "execute_result"
    }
   ],
   "source": [
    "ratings_df_nosuper['userId'].value_counts()"
   ]
  },
  {
   "cell_type": "markdown",
   "metadata": {},
   "source": [
    "we now have ratings_df without superusers"
   ]
  },
  {
   "cell_type": "markdown",
   "metadata": {},
   "source": [
    "## Data Processing for Modeling"
   ]
  },
  {
   "cell_type": "markdown",
   "metadata": {},
   "source": [
    "We will be looking and modeling ratings_df, as it contains all the columns we are interested in."
   ]
  },
  {
   "cell_type": "code",
   "execution_count": 12,
   "metadata": {
    "collapsed": true
   },
   "outputs": [
    {
     "data": {
      "text/html": [
       "<div>\n",
       "<style scoped>\n",
       "    .dataframe tbody tr th:only-of-type {\n",
       "        vertical-align: middle;\n",
       "    }\n",
       "\n",
       "    .dataframe tbody tr th {\n",
       "        vertical-align: top;\n",
       "    }\n",
       "\n",
       "    .dataframe thead th {\n",
       "        text-align: right;\n",
       "    }\n",
       "</style>\n",
       "<table border=\"1\" class=\"dataframe\">\n",
       "  <thead>\n",
       "    <tr style=\"text-align: right;\">\n",
       "      <th></th>\n",
       "      <th>userId</th>\n",
       "      <th>movieId</th>\n",
       "      <th>rating</th>\n",
       "      <th>timestamp</th>\n",
       "    </tr>\n",
       "  </thead>\n",
       "  <tbody>\n",
       "    <tr>\n",
       "      <th>0</th>\n",
       "      <td>1</td>\n",
       "      <td>1</td>\n",
       "      <td>4.0</td>\n",
       "      <td>964982703</td>\n",
       "    </tr>\n",
       "    <tr>\n",
       "      <th>1</th>\n",
       "      <td>1</td>\n",
       "      <td>3</td>\n",
       "      <td>4.0</td>\n",
       "      <td>964981247</td>\n",
       "    </tr>\n",
       "    <tr>\n",
       "      <th>2</th>\n",
       "      <td>1</td>\n",
       "      <td>6</td>\n",
       "      <td>4.0</td>\n",
       "      <td>964982224</td>\n",
       "    </tr>\n",
       "    <tr>\n",
       "      <th>3</th>\n",
       "      <td>1</td>\n",
       "      <td>47</td>\n",
       "      <td>5.0</td>\n",
       "      <td>964983815</td>\n",
       "    </tr>\n",
       "    <tr>\n",
       "      <th>4</th>\n",
       "      <td>1</td>\n",
       "      <td>50</td>\n",
       "      <td>5.0</td>\n",
       "      <td>964982931</td>\n",
       "    </tr>\n",
       "    <tr>\n",
       "      <th>...</th>\n",
       "      <td>...</td>\n",
       "      <td>...</td>\n",
       "      <td>...</td>\n",
       "      <td>...</td>\n",
       "    </tr>\n",
       "    <tr>\n",
       "      <th>100831</th>\n",
       "      <td>610</td>\n",
       "      <td>166534</td>\n",
       "      <td>4.0</td>\n",
       "      <td>1493848402</td>\n",
       "    </tr>\n",
       "    <tr>\n",
       "      <th>100832</th>\n",
       "      <td>610</td>\n",
       "      <td>168248</td>\n",
       "      <td>5.0</td>\n",
       "      <td>1493850091</td>\n",
       "    </tr>\n",
       "    <tr>\n",
       "      <th>100833</th>\n",
       "      <td>610</td>\n",
       "      <td>168250</td>\n",
       "      <td>5.0</td>\n",
       "      <td>1494273047</td>\n",
       "    </tr>\n",
       "    <tr>\n",
       "      <th>100834</th>\n",
       "      <td>610</td>\n",
       "      <td>168252</td>\n",
       "      <td>5.0</td>\n",
       "      <td>1493846352</td>\n",
       "    </tr>\n",
       "    <tr>\n",
       "      <th>100835</th>\n",
       "      <td>610</td>\n",
       "      <td>170875</td>\n",
       "      <td>3.0</td>\n",
       "      <td>1493846415</td>\n",
       "    </tr>\n",
       "  </tbody>\n",
       "</table>\n",
       "<p>100836 rows × 4 columns</p>\n",
       "</div>"
      ],
      "text/plain": [
       "        userId  movieId  rating   timestamp\n",
       "0            1        1     4.0   964982703\n",
       "1            1        3     4.0   964981247\n",
       "2            1        6     4.0   964982224\n",
       "3            1       47     5.0   964983815\n",
       "4            1       50     5.0   964982931\n",
       "...        ...      ...     ...         ...\n",
       "100831     610   166534     4.0  1493848402\n",
       "100832     610   168248     5.0  1493850091\n",
       "100833     610   168250     5.0  1494273047\n",
       "100834     610   168252     5.0  1493846352\n",
       "100835     610   170875     3.0  1493846415\n",
       "\n",
       "[100836 rows x 4 columns]"
      ]
     },
     "execution_count": 12,
     "metadata": {},
     "output_type": "execute_result"
    }
   ],
   "source": [
    "ratings_df"
   ]
  },
  {
   "cell_type": "code",
   "execution_count": 13,
   "metadata": {
    "collapsed": true
   },
   "outputs": [
    {
     "data": {
      "text/html": [
       "<div>\n",
       "<style scoped>\n",
       "    .dataframe tbody tr th:only-of-type {\n",
       "        vertical-align: middle;\n",
       "    }\n",
       "\n",
       "    .dataframe tbody tr th {\n",
       "        vertical-align: top;\n",
       "    }\n",
       "\n",
       "    .dataframe thead th {\n",
       "        text-align: right;\n",
       "    }\n",
       "</style>\n",
       "<table border=\"1\" class=\"dataframe\">\n",
       "  <thead>\n",
       "    <tr style=\"text-align: right;\">\n",
       "      <th></th>\n",
       "      <th>userId</th>\n",
       "      <th>movieId</th>\n",
       "      <th>rating</th>\n",
       "      <th>timestamp</th>\n",
       "    </tr>\n",
       "  </thead>\n",
       "  <tbody>\n",
       "    <tr>\n",
       "      <th>0</th>\n",
       "      <td>1</td>\n",
       "      <td>1</td>\n",
       "      <td>4.0</td>\n",
       "      <td>964982703</td>\n",
       "    </tr>\n",
       "    <tr>\n",
       "      <th>1</th>\n",
       "      <td>1</td>\n",
       "      <td>3</td>\n",
       "      <td>4.0</td>\n",
       "      <td>964981247</td>\n",
       "    </tr>\n",
       "    <tr>\n",
       "      <th>2</th>\n",
       "      <td>1</td>\n",
       "      <td>6</td>\n",
       "      <td>4.0</td>\n",
       "      <td>964982224</td>\n",
       "    </tr>\n",
       "    <tr>\n",
       "      <th>3</th>\n",
       "      <td>1</td>\n",
       "      <td>47</td>\n",
       "      <td>5.0</td>\n",
       "      <td>964983815</td>\n",
       "    </tr>\n",
       "    <tr>\n",
       "      <th>4</th>\n",
       "      <td>1</td>\n",
       "      <td>50</td>\n",
       "      <td>5.0</td>\n",
       "      <td>964982931</td>\n",
       "    </tr>\n",
       "    <tr>\n",
       "      <th>...</th>\n",
       "      <td>...</td>\n",
       "      <td>...</td>\n",
       "      <td>...</td>\n",
       "      <td>...</td>\n",
       "    </tr>\n",
       "    <tr>\n",
       "      <th>99529</th>\n",
       "      <td>609</td>\n",
       "      <td>892</td>\n",
       "      <td>3.0</td>\n",
       "      <td>847221080</td>\n",
       "    </tr>\n",
       "    <tr>\n",
       "      <th>99530</th>\n",
       "      <td>609</td>\n",
       "      <td>1056</td>\n",
       "      <td>3.0</td>\n",
       "      <td>847221080</td>\n",
       "    </tr>\n",
       "    <tr>\n",
       "      <th>99531</th>\n",
       "      <td>609</td>\n",
       "      <td>1059</td>\n",
       "      <td>3.0</td>\n",
       "      <td>847221054</td>\n",
       "    </tr>\n",
       "    <tr>\n",
       "      <th>99532</th>\n",
       "      <td>609</td>\n",
       "      <td>1150</td>\n",
       "      <td>4.0</td>\n",
       "      <td>847221054</td>\n",
       "    </tr>\n",
       "    <tr>\n",
       "      <th>99533</th>\n",
       "      <td>609</td>\n",
       "      <td>1161</td>\n",
       "      <td>4.0</td>\n",
       "      <td>847221080</td>\n",
       "    </tr>\n",
       "  </tbody>\n",
       "</table>\n",
       "<p>60282 rows × 4 columns</p>\n",
       "</div>"
      ],
      "text/plain": [
       "       userId  movieId  rating  timestamp\n",
       "0           1        1     4.0  964982703\n",
       "1           1        3     4.0  964981247\n",
       "2           1        6     4.0  964982224\n",
       "3           1       47     5.0  964983815\n",
       "4           1       50     5.0  964982931\n",
       "...       ...      ...     ...        ...\n",
       "99529     609      892     3.0  847221080\n",
       "99530     609     1056     3.0  847221080\n",
       "99531     609     1059     3.0  847221054\n",
       "99532     609     1150     4.0  847221054\n",
       "99533     609     1161     4.0  847221080\n",
       "\n",
       "[60282 rows x 4 columns]"
      ]
     },
     "execution_count": 13,
     "metadata": {},
     "output_type": "execute_result"
    }
   ],
   "source": [
    "ratings_df_nosuper"
   ]
  },
  {
   "cell_type": "code",
   "execution_count": 14,
   "metadata": {
    "collapsed": true
   },
   "outputs": [
    {
     "data": {
      "text/html": [
       "<div>\n",
       "<style scoped>\n",
       "    .dataframe tbody tr th:only-of-type {\n",
       "        vertical-align: middle;\n",
       "    }\n",
       "\n",
       "    .dataframe tbody tr th {\n",
       "        vertical-align: top;\n",
       "    }\n",
       "\n",
       "    .dataframe thead th {\n",
       "        text-align: right;\n",
       "    }\n",
       "</style>\n",
       "<table border=\"1\" class=\"dataframe\">\n",
       "  <thead>\n",
       "    <tr style=\"text-align: right;\">\n",
       "      <th></th>\n",
       "      <th>userId</th>\n",
       "      <th>movieId</th>\n",
       "      <th>rating</th>\n",
       "    </tr>\n",
       "  </thead>\n",
       "  <tbody>\n",
       "    <tr>\n",
       "      <th>0</th>\n",
       "      <td>1</td>\n",
       "      <td>1</td>\n",
       "      <td>4.0</td>\n",
       "    </tr>\n",
       "    <tr>\n",
       "      <th>1</th>\n",
       "      <td>1</td>\n",
       "      <td>3</td>\n",
       "      <td>4.0</td>\n",
       "    </tr>\n",
       "    <tr>\n",
       "      <th>2</th>\n",
       "      <td>1</td>\n",
       "      <td>6</td>\n",
       "      <td>4.0</td>\n",
       "    </tr>\n",
       "    <tr>\n",
       "      <th>3</th>\n",
       "      <td>1</td>\n",
       "      <td>47</td>\n",
       "      <td>5.0</td>\n",
       "    </tr>\n",
       "    <tr>\n",
       "      <th>4</th>\n",
       "      <td>1</td>\n",
       "      <td>50</td>\n",
       "      <td>5.0</td>\n",
       "    </tr>\n",
       "    <tr>\n",
       "      <th>...</th>\n",
       "      <td>...</td>\n",
       "      <td>...</td>\n",
       "      <td>...</td>\n",
       "    </tr>\n",
       "    <tr>\n",
       "      <th>99529</th>\n",
       "      <td>609</td>\n",
       "      <td>892</td>\n",
       "      <td>3.0</td>\n",
       "    </tr>\n",
       "    <tr>\n",
       "      <th>99530</th>\n",
       "      <td>609</td>\n",
       "      <td>1056</td>\n",
       "      <td>3.0</td>\n",
       "    </tr>\n",
       "    <tr>\n",
       "      <th>99531</th>\n",
       "      <td>609</td>\n",
       "      <td>1059</td>\n",
       "      <td>3.0</td>\n",
       "    </tr>\n",
       "    <tr>\n",
       "      <th>99532</th>\n",
       "      <td>609</td>\n",
       "      <td>1150</td>\n",
       "      <td>4.0</td>\n",
       "    </tr>\n",
       "    <tr>\n",
       "      <th>99533</th>\n",
       "      <td>609</td>\n",
       "      <td>1161</td>\n",
       "      <td>4.0</td>\n",
       "    </tr>\n",
       "  </tbody>\n",
       "</table>\n",
       "<p>60282 rows × 3 columns</p>\n",
       "</div>"
      ],
      "text/plain": [
       "       userId  movieId  rating\n",
       "0           1        1     4.0\n",
       "1           1        3     4.0\n",
       "2           1        6     4.0\n",
       "3           1       47     5.0\n",
       "4           1       50     5.0\n",
       "...       ...      ...     ...\n",
       "99529     609      892     3.0\n",
       "99530     609     1056     3.0\n",
       "99531     609     1059     3.0\n",
       "99532     609     1150     4.0\n",
       "99533     609     1161     4.0\n",
       "\n",
       "[60282 rows x 3 columns]"
      ]
     },
     "execution_count": 14,
     "metadata": {},
     "output_type": "execute_result"
    }
   ],
   "source": [
    "#remove timestamp column, which is unnecessary for modeling\n",
    "ratings_df = ratings_df.drop(\"timestamp\", axis=1)\n",
    "ratings_df\n",
    "\n",
    "ratings_df_nosuper = ratings_df_nosuper.drop('timestamp', axis=1)\n",
    "ratings_df_nosuper"
   ]
  },
  {
   "cell_type": "code",
   "execution_count": 15,
   "metadata": {},
   "outputs": [
    {
     "data": {
      "text/plain": [
       "566"
      ]
     },
     "execution_count": 15,
     "metadata": {},
     "output_type": "execute_result"
    }
   ],
   "source": [
    "ratings_df_nosuper[\"userId\"].nunique()"
   ]
  },
  {
   "cell_type": "markdown",
   "metadata": {},
   "source": [
    "Transform dataset into suprise compatible data"
   ]
  },
  {
   "cell_type": "code",
   "execution_count": 16,
   "metadata": {},
   "outputs": [],
   "source": [
    "from surprise import Reader, Dataset\n",
    "\n",
    "reader = Reader(rating_scale=(1, 5))\n",
    "data = Dataset.load_from_df(ratings_df, reader)"
   ]
  },
  {
   "cell_type": "code",
   "execution_count": 17,
   "metadata": {},
   "outputs": [
    {
     "name": "stdout",
     "output_type": "stream",
     "text": [
      "Number of users:  610 \n",
      "\n",
      "Number of items:  9724\n"
     ]
    }
   ],
   "source": [
    "full_dataset = data.build_full_trainset()\n",
    "\n",
    "#view the number of users and items\n",
    "print('Number of users: ', full_dataset.n_users, '\\n')\n",
    "print('Number of items: ', full_dataset.n_items)"
   ]
  },
  {
   "cell_type": "markdown",
   "metadata": {},
   "source": [
    "Splitting Data into Data set A, for training, and B for testing:"
   ]
  },
  {
   "cell_type": "code",
   "execution_count": 18,
   "metadata": {},
   "outputs": [],
   "source": [
    "## We use train_test_split\n",
    "\n",
    "trainset, testset = train_test_split(data, test_size=0.2,random_state=42)"
   ]
  },
  {
   "cell_type": "code",
   "execution_count": 19,
   "metadata": {},
   "outputs": [],
   "source": [
    "#function for outputting the accuracy predictions on an algorithm\n",
    "\n",
    "def train_and_test_pred (algo, trainset, testset): \n",
    "    algo.fit(trainset)\n",
    "   \n",
    "    train_predictions = algo.test(trainset.build_testset())\n",
    "    print('biased accuracy on train set: ')\n",
    "    print(accuracy.rmse(train_predictions))\n",
    "    print(accuracy.mae(train_predictions))\n",
    "    test_predictions = algo.test(testset)\n",
    "    print('unbiased accuracy on test set: ')\n",
    "    print(accuracy.rmse(test_predictions))\n",
    "    print(accuracy.mae(test_predictions))"
   ]
  },
  {
   "cell_type": "markdown",
   "metadata": {},
   "source": [
    "## Determining the Best Model"
   ]
  },
  {
   "cell_type": "markdown",
   "metadata": {},
   "source": [
    "Compare different models and determine which is the best. We will use RMSE to evaluate models."
   ]
  },
  {
   "cell_type": "markdown",
   "metadata": {},
   "source": [
    "### Baseline: "
   ]
  },
  {
   "cell_type": "markdown",
   "metadata": {},
   "source": [
    "Our baseline model will be KNNBasic, a basic collaborative filtering algorithm, with no parameters"
   ]
  },
  {
   "cell_type": "code",
   "execution_count": 20,
   "metadata": {},
   "outputs": [
    {
     "name": "stdout",
     "output_type": "stream",
     "text": [
      "Computing the msd similarity matrix...\n",
      "Done computing similarity matrix.\n",
      "biased accuracy on train set: \n",
      "RMSE: 0.7110\n",
      "0.710986894321433\n",
      "MAE:  0.5316\n",
      "0.5316262167615223\n",
      "unbiased accuracy on test set: \n",
      "RMSE: 0.9561\n",
      "0.9560731582415551\n",
      "MAE:  0.7325\n",
      "0.7325203978636554\n"
     ]
    }
   ],
   "source": [
    "baseline_model = KNNBasic()\n",
    "train_and_test_pred(baseline_model, trainset, testset)"
   ]
  },
  {
   "cell_type": "code",
   "execution_count": 21,
   "metadata": {},
   "outputs": [
    {
     "name": "stdout",
     "output_type": "stream",
     "text": [
      "Computing the msd similarity matrix...\n",
      "Done computing similarity matrix.\n",
      "Computing the msd similarity matrix...\n",
      "Done computing similarity matrix.\n",
      "Computing the msd similarity matrix...\n",
      "Done computing similarity matrix.\n",
      "Computing the msd similarity matrix...\n",
      "Done computing similarity matrix.\n",
      "Computing the msd similarity matrix...\n",
      "Done computing similarity matrix.\n",
      "mean fit time 0.15175867080688477\n",
      "mean test time 1.4409749031066894\n",
      "mean test rmse 0.9483885175380056\n"
     ]
    }
   ],
   "source": [
    "#Scores for KNN Basic via cross validation\n",
    "cv_knn_basic = cross_validate(baseline_model, data)\n",
    "print(\"mean fit time\", np.mean(cv_knn_basic['fit_time']))\n",
    "print(\"mean test time\", np.mean(cv_knn_basic['test_time']))\n",
    "print(\"mean test rmse\", np.mean(cv_knn_basic['test_rmse']))"
   ]
  },
  {
   "cell_type": "markdown",
   "metadata": {},
   "source": [
    "### SVD:"
   ]
  },
  {
   "cell_type": "code",
   "execution_count": 22,
   "metadata": {},
   "outputs": [
    {
     "name": "stdout",
     "output_type": "stream",
     "text": [
      "mean fit time 4.4486839294433596\n",
      "mean test time 0.15134768486022948\n",
      "mean test rmse 0.874729043033945\n"
     ]
    }
   ],
   "source": [
    "## Scores for Baseline SVD Crossvalidation\n",
    "\n",
    "svd = SVD()\n",
    "cv_svd = cross_validate(svd, data)\n",
    "print(\"mean fit time\", np.mean(cv_svd['fit_time']))\n",
    "print(\"mean test time\", np.mean(cv_svd['test_time']))\n",
    "print(\"mean test rmse\", np.mean(cv_svd['test_rmse']))\n"
   ]
  },
  {
   "cell_type": "code",
   "execution_count": 23,
   "metadata": {},
   "outputs": [
    {
     "name": "stdout",
     "output_type": "stream",
     "text": [
      "biased accuracy on train set: \n",
      "RMSE: 0.6404\n",
      "0.640405507853731\n",
      "MAE:  0.4970\n",
      "0.4970452420426007\n",
      "unbiased accuracy on test set: \n",
      "RMSE: 0.8828\n",
      "0.8827637835963649\n",
      "MAE:  0.6796\n",
      "0.6795687863805928\n"
     ]
    }
   ],
   "source": [
    "train_and_test_pred(svd, trainset, testset)"
   ]
  },
  {
   "cell_type": "code",
   "execution_count": 24,
   "metadata": {},
   "outputs": [],
   "source": [
    "# performing a gridsearch with SVD\n",
    "\n",
    "params = {\n",
    "    'n_factors': [100,150,200],\n",
    "    'n_epochs': [20,80,100],\n",
    "    'lr_all': [0.008,0.01],\n",
    "    'reg_all': [0.07,0.1]\n",
    "}\n",
    "\n",
    "SVD_grid = GridSearchCV(SVD, param_grid = params, cv=5)\n",
    "SVD_grid.fit(data)"
   ]
  },
  {
   "cell_type": "code",
   "execution_count": null,
   "metadata": {},
   "outputs": [],
   "source": [
    "#view grid search results\n",
    "print(SVD_grid.best_params)\n",
    "print(SVD_grid.best_score)"
   ]
  },
  {
   "cell_type": "code",
   "execution_count": null,
   "metadata": {},
   "outputs": [],
   "source": [
    "## choose the best algo\n",
    "svd_best_algo = SVD_grid.best_estimator['rmse']"
   ]
  },
  {
   "cell_type": "code",
   "execution_count": null,
   "metadata": {
    "scrolled": true
   },
   "outputs": [],
   "source": [
    "# Use our function to output train/test predictions\n",
    "train_and_test_pred(svd_best_algo, trainset, testset)"
   ]
  },
  {
   "cell_type": "code",
   "execution_count": null,
   "metadata": {},
   "outputs": [],
   "source": [
    "#Scores for Best SVD via cross validation\n",
    "cv_best_svd = cross_validate(svd_best_algo, data)\n",
    "print(\"mean fit time\", np.mean(cv_best_svd['fit_time']))\n",
    "print(\"mean test time\", np.mean(cv_best_svd['test_time']))\n",
    "print(\"mean test rmse\", np.mean(cv_best_svd['test_rmse']))"
   ]
  },
  {
   "cell_type": "markdown",
   "metadata": {},
   "source": [
    "### KNNBasic:"
   ]
  },
  {
   "cell_type": "code",
   "execution_count": null,
   "metadata": {},
   "outputs": [],
   "source": [
    "## Scores for Baseline KNNBasic Crossvalidation\n",
    "\n",
    "knn_basic = KNNBasic(sim_options={\"name\": 'pearson', 'user_based':True})\n",
    "cv_knn_basic = cross_validate(knn_basic, data, n_jobs=-1)\n",
    "print(\"mean fit time\", np.mean(cv_knn_basic['fit_time']))\n",
    "print(\"mean test time\", np.mean(cv_knn_basic['test_time']))\n",
    "print(\"mean test rmse\", np.mean(cv_knn_basic['test_rmse']))"
   ]
  },
  {
   "cell_type": "code",
   "execution_count": null,
   "metadata": {},
   "outputs": [],
   "source": [
    "train_and_test_pred(knn_basic, trainset, testset)"
   ]
  },
  {
   "cell_type": "code",
   "execution_count": null,
   "metadata": {},
   "outputs": [],
   "source": [
    "## GridSearch with KNNBasic\n",
    "## note: this takes several minutes to run\n",
    "params = {\n",
    "    'k': [20,40,60],\n",
    "    'sim_options': {\n",
    "        'name':['msd', 'cosine', 'pearson'],\n",
    "        'user_based': [True,False]   \n",
    "    }\n",
    "}\n",
    "KNNBasic_grid = GridSearchCV(KNNBasic, param_grid = params, cv=5)\n",
    "KNNBasic_grid.fit(data)"
   ]
  },
  {
   "cell_type": "code",
   "execution_count": null,
   "metadata": {},
   "outputs": [],
   "source": [
    "#view grid search results\n",
    "print(KNNBasic_grid.best_params)\n",
    "print(KNNBasic_grid.best_score)"
   ]
  },
  {
   "cell_type": "code",
   "execution_count": null,
   "metadata": {},
   "outputs": [],
   "source": [
    "#take the best model and \n",
    "#test on train/test \n",
    "KNNbasic_best_algo = KNNBasic_grid.best_estimator['rmse']\n",
    "train_and_test_pred(KNNbasic_best_algo, trainset, testset)"
   ]
  },
  {
   "cell_type": "code",
   "execution_count": null,
   "metadata": {},
   "outputs": [],
   "source": [
    "#Scores for Best KNNbasic via cross validation\n",
    "cv_best_knnbasic = cross_validate(KNNbasic_best_algo, data)\n",
    "print(\"mean fit time\", np.mean(cv_best_knnbasic['fit_time']))\n",
    "print(\"mean test time\", np.mean(cv_best_knnbasic['test_time']))\n",
    "print(\"mean test rmse\", np.mean(cv_best_knnbasic['test_rmse']))"
   ]
  },
  {
   "cell_type": "markdown",
   "metadata": {},
   "source": [
    "### KNNBaseline"
   ]
  },
  {
   "cell_type": "code",
   "execution_count": null,
   "metadata": {},
   "outputs": [],
   "source": [
    "##view our cross validation score with KNNBaseline:\n",
    "knn_baseline = KNNBaseline(sim_options={\"name\": 'pearson', 'user_based':True})\n",
    "cv_knn_baseline = cross_validate(knn_baseline, data)\n",
    "print(\"mean fit time\", np.mean(cv_knn_baseline['fit_time']))\n",
    "print(\"mean test time\", np.mean(cv_knn_baseline['test_time']))\n",
    "print(\"mean test rmse\", np.mean(cv_knn_baseline['test_rmse']))"
   ]
  },
  {
   "cell_type": "code",
   "execution_count": null,
   "metadata": {},
   "outputs": [],
   "source": [
    "## now view our accuracy with train/test data\n",
    "train_and_test_pred(knn_baseline, trainset, testset)"
   ]
  },
  {
   "cell_type": "code",
   "execution_count": null,
   "metadata": {},
   "outputs": [],
   "source": [
    "## GridSearch with KNNBaseline\n",
    "## note: this takes several minutes to run\n",
    "params = {\n",
    "    'k': [10,20,40,50],\n",
    "    'sim_options': {\n",
    "        'name':['msd', 'cosine', 'pearson'],\n",
    "    },\n",
    "    'bsl_options': {\n",
    "        \"method\": [\"als\",\"sgd\"],\n",
    "        'reg': [0.02,0.5, 1, 2],\n",
    "        'n_epochs': [20,40]\n",
    "    }\n",
    "}\n",
    "KNNBaseline_grid = GridSearchCV(KNNBaseline, param_grid = params, cv=5)\n",
    "KNNBaseline_grid.fit(data)"
   ]
  },
  {
   "cell_type": "code",
   "execution_count": null,
   "metadata": {},
   "outputs": [],
   "source": [
    "#view grid search results\n",
    "print(KNNBaseline_grid.best_params)\n",
    "print(KNNBaseline_grid.best_score)"
   ]
  },
  {
   "cell_type": "code",
   "execution_count": null,
   "metadata": {},
   "outputs": [],
   "source": [
    "#take the best model and \n",
    "#test on train/test \n",
    "KNNbaseline_best_algo = KNNBaseline_grid.best_estimator['rmse']\n",
    "train_and_test_pred(KNNbaseline_best_algo, trainset, testset)"
   ]
  },
  {
   "cell_type": "code",
   "execution_count": null,
   "metadata": {},
   "outputs": [],
   "source": [
    "#Scores for Best KNN Baseline via cross validation\n",
    "cv_best_knnbaseline = cross_validate(KNNbaseline_best_algo, data)\n",
    "print(\"mean fit time\", np.mean(cv_best_knnbaseline['fit_time']))\n",
    "print(\"mean test time\", np.mean(cv_best_knnbaseline['test_time']))\n",
    "print(\"mean test rmse\", np.mean(cv_best_knnbaseline['test_rmse']))"
   ]
  },
  {
   "cell_type": "markdown",
   "metadata": {},
   "source": [
    "### NMF"
   ]
  },
  {
   "cell_type": "code",
   "execution_count": null,
   "metadata": {
    "scrolled": true
   },
   "outputs": [],
   "source": [
    "#Baseline NMF cross validation scores\n",
    "nmf = NMF()\n",
    "\n",
    "cv_nmf = cross_validate(nmf, data)\n",
    "print(\"mean fit time\", np.mean(cv_nmf['fit_time']))\n",
    "print(\"mean test time\", np.mean(cv_nmf['test_time']))\n",
    "print(\"mean test rmse\", np.mean(cv_nmf['test_rmse']))"
   ]
  },
  {
   "cell_type": "code",
   "execution_count": null,
   "metadata": {},
   "outputs": [],
   "source": [
    "## GridSearch with NMF\n",
    "## note: this takes several minutes to run\n",
    "params = {\n",
    "    'n_factors': [10,15,20,25,30],\n",
    "    \"n_epochs\": [25,50,75,100],\n",
    "    \"biased\": [True,False],\n",
    "    \"reg_pu\": [0.06,0.1],\n",
    "    \"reg_qi\": [0.06,0.1]\n",
    "}\n",
    "nmf_grid = GridSearchCV(NMF, param_grid = params, cv=5)\n",
    "nmf_grid.fit(data)"
   ]
  },
  {
   "cell_type": "code",
   "execution_count": null,
   "metadata": {},
   "outputs": [],
   "source": [
    "#view grid search results\n",
    "print(nmf_grid.best_params)\n",
    "print(nmf_grid.best_score)"
   ]
  },
  {
   "cell_type": "code",
   "execution_count": null,
   "metadata": {
    "scrolled": true
   },
   "outputs": [],
   "source": [
    "#take the best model and \n",
    "#test on train/test \n",
    "nmf_best = nmf_grid.best_estimator['rmse']\n",
    "train_and_test_pred(nmf_best, trainset, testset)"
   ]
  },
  {
   "cell_type": "code",
   "execution_count": null,
   "metadata": {},
   "outputs": [],
   "source": [
    "#Scores for Best NMF via cross validation\n",
    "cv_best_nmf = cross_validate(nmf_best, data)\n",
    "print(\"mean fit time\", np.mean(cv_best_nmf['fit_time']))\n",
    "print(\"mean test time\", np.mean(cv_best_nmf['test_time']))\n",
    "print(\"mean test rmse\", np.mean(cv_best_nmf['test_rmse']))\n"
   ]
  },
  {
   "cell_type": "code",
   "execution_count": null,
   "metadata": {},
   "outputs": [],
   "source": [
    "## Best model so far: \n",
    "# NMF rmse: 0.8774 {'n_factors': 10, 'n_epochs': 50, 'biased': True, 'reg_pu': 0.1, 'reg_qi': 0.1}, \n",
    "# NMF'mae': 0.7698 {'n_factors': 10, 'n_epochs': 100, 'biased': True, 'reg_pu': 0.1, 'reg_qi': 0.1}}\n",
    "#SVD: 0.8633 'rmse': {'n_factors': 200, 'n_epochs': 80, 'lr_all': 0.01, 'reg_all': 0.1}, \n",
    "#SVD: 0.7453 'mae': {'n_factors': 150, 'n_epochs': 100, 'lr_all': 0.01, 'reg_all': 0.1}}"
   ]
  },
  {
   "cell_type": "markdown",
   "metadata": {},
   "source": [
    "### Comparing Models:"
   ]
  },
  {
   "cell_type": "code",
   "execution_count": null,
   "metadata": {},
   "outputs": [],
   "source": [
    "models_df = pd.DataFrame()\n",
    "models_df['modelId'] = ['KNNBasic', \"KNNBaseline\", \"NMF\", \"SVD\"]\n",
    "models_df['RMSE'] = [0.988, 0.866, 0.878, 0.863]\n",
    "\n",
    "##runtime for models:\n",
    "KNNBasic_runtime = np.mean(cv_knn_basic['fit_time'])+np.mean(cv_knn_basic['test_time'])\n",
    "print(\"KNNBasic runtime\", KNNBasic_runtime)\n",
    "\n",
    "KNNBaseline_runtime = np.mean(cv_best_knnbaseline['fit_time'])+np.mean(cv_best_knnbaseline['test_time'])\n",
    "print(\"KNNBaseline runtime\", KNNBaseline_runtime)\n",
    "\n",
    "nmf_runtime = np.mean(cv_best_nmf['fit_time'])+np.mean(cv_best_nmf['test_time'])\n",
    "print(\"NMF runtime\", nmf_runtime)\n",
    "\n",
    "svd_runtime = np.mean(cv_best_svd['fit_time'])+np.mean(cv_best_svd['test_time'])\n",
    "print(\"SVD runtime\", svd_runtime)\n",
    "\n",
    "models_df['runTime'] = [KNNBasic_runtime, KNNBaseline_runtime, nmf_runtime, svd_runtime]\n",
    "\n",
    "models_df"
   ]
  },
  {
   "cell_type": "markdown",
   "metadata": {},
   "source": [
    "## Making Recommendations"
   ]
  },
  {
   "cell_type": "markdown",
   "metadata": {},
   "source": [
    "We want to return the actual title of a movie instead of an ID"
   ]
  },
  {
   "cell_type": "code",
   "execution_count": null,
   "metadata": {
    "scrolled": true
   },
   "outputs": [],
   "source": [
    "movies_df.head()"
   ]
  },
  {
   "cell_type": "markdown",
   "metadata": {},
   "source": [
    "### Making simple predictions"
   ]
  },
  {
   "cell_type": "markdown",
   "metadata": {},
   "source": [
    "Taking our best algorithm so far: SVD"
   ]
  },
  {
   "cell_type": "code",
   "execution_count": null,
   "metadata": {},
   "outputs": [],
   "source": [
    "best_algo = SVD(n_factors= 200, n_epochs= 80, lr_all= 0.01, reg_all= 0.1)\n",
    "best_algo.fit(trainset)"
   ]
  },
  {
   "cell_type": "code",
   "execution_count": null,
   "metadata": {},
   "outputs": [],
   "source": [
    "best_algo.test(testset)\n",
    "accuracy.rmse(best_algo.test(testset))"
   ]
  },
  {
   "cell_type": "markdown",
   "metadata": {},
   "source": [
    "### Obtaining User Rankings"
   ]
  },
  {
   "cell_type": "markdown",
   "metadata": {},
   "source": [
    "Creating a function that allows the current user to rate movies in our database. The function will save the ratings of the current user and give recommendations based on their preferences."
   ]
  },
  {
   "cell_type": "markdown",
   "metadata": {},
   "source": [
    "The function `movie_rater()` takes as parameters: \n",
    "\n",
    "* `movie_df`: DataFrame - a dataframe containing the movie ids, name of movie, and genres\n",
    "* `num`: int - number of ratings\n",
    "* `genre`: string - a specific genre from which to draw movies\n",
    "\n",
    "The function returns:\n",
    "* rating_list : list - a collection of dictionaries in the format of {'userId': int , 'movieId': int , 'rating': float}"
   ]
  },
  {
   "cell_type": "code",
   "execution_count": null,
   "metadata": {},
   "outputs": [],
   "source": [
    "def movie_rater(movie_df,num, genre=None):\n",
    "    userId = 1000\n",
    "    rating_list = []\n",
    "    \n",
    "    while num > 0:    \n",
    "        if genre:\n",
    "            movie = movie_df[movie_df['genres'].str.contains(genre)].sample(1)\n",
    "        else:\n",
    "            movie = movie_df.sample(1)\n",
    "            \n",
    "        print(movie)\n",
    "        rating = input(\"Please rate this movie from 1-5, press n if you have not seen :\\n\")\n",
    "    \n",
    "        try: \n",
    "            if 1 <= int(rating) <= 5:\n",
    "                rating_movie = {'userId': userId, \"movieId\":movie['movieId'].values[0], \"rating\": rating}\n",
    "                rating_list.append(rating_movie)\n",
    "                num -= 1\n",
    "        except:\n",
    "            print('Please enter a valid rating from 1-5')\n",
    "            continue\n",
    "    return rating_list\n"
   ]
  },
  {
   "cell_type": "code",
   "execution_count": null,
   "metadata": {},
   "outputs": [],
   "source": [
    "movies_df.loc[movies_df[\"movieId\"]==663]"
   ]
  },
  {
   "cell_type": "code",
   "execution_count": null,
   "metadata": {},
   "outputs": [],
   "source": [
    "## Trying out the function:\n",
    "user_rating = movie_rater(movies_df, 5, \"Comedy\")\n",
    "user_rating"
   ]
  },
  {
   "cell_type": "markdown",
   "metadata": {},
   "source": [
    "### Making Predictions with the New Ratings"
   ]
  },
  {
   "cell_type": "code",
   "execution_count": null,
   "metadata": {},
   "outputs": [],
   "source": [
    "user_rating"
   ]
  },
  {
   "cell_type": "code",
   "execution_count": null,
   "metadata": {},
   "outputs": [],
   "source": [
    "movie_list20 = [ 356,  318,  296,  593, 2571,  260,  480,  110,  589,  527, 2959, 1, 1196, 2858,   50,   47,  780,  150, 1198, 4993]"
   ]
  },
  {
   "cell_type": "code",
   "execution_count": null,
   "metadata": {},
   "outputs": [],
   "source": [
    "sorted(movie_list20)"
   ]
  },
  {
   "cell_type": "code",
   "execution_count": null,
   "metadata": {},
   "outputs": [],
   "source": [
    "## add the new ratings to the original ratings DataFrame\n",
    "user_ratings_df = pd.DataFrame(user_rating)\n",
    "ratings_df = pd.concat([ratings_df, user_ratings_df], axis=0)\n",
    "new_data = Dataset.load_from_df(ratings_df, reader)"
   ]
  },
  {
   "cell_type": "code",
   "execution_count": null,
   "metadata": {},
   "outputs": [],
   "source": [
    "# make predictions for the user\n",
    "# tuples in the format (movie_id, predicted_score)\n",
    "recc_movies = []\n",
    "for m_id in ratings_df['movieId'].unique():\n",
    "    if (m_id in movie_list20): \n",
    "        continue\n",
    "    else:\n",
    "        prediction = best_algo.predict(1000,m_id)[3]\n",
    "        recc_movies.append( (m_id, prediction) )"
   ]
  },
  {
   "cell_type": "code",
   "execution_count": null,
   "metadata": {},
   "outputs": [],
   "source": [
    "# order the predictions from highest to lowest rated\n",
    "\n",
    "ranked_movies = sorted(recc_movies, key=lambda x:x[1], reverse = True)"
   ]
  },
  {
   "cell_type": "code",
   "execution_count": null,
   "metadata": {},
   "outputs": [],
   "source": [
    "ranked_movies"
   ]
  },
  {
   "cell_type": "markdown",
   "metadata": {},
   "source": [
    "We create a function `recommended_movies()` that takes in the parameters:\n",
    "* `user_ratings`: list - list of tuples formulated as (user_id, movie_id) (should be in order of best to worst for this individual)\n",
    "* `movie_title_df`: DataFrame \n",
    "* `n`: int - number of recommended movies \n",
    "\n",
    "We print out each recommended *n* movies in order from best to worst"
   ]
  },
  {
   "cell_type": "code",
   "execution_count": null,
   "metadata": {
    "scrolled": false
   },
   "outputs": [],
   "source": [
    "# return the top n recommendations\n",
    "def recommended_movies(user_ratings,movie_title_df,n):\n",
    "    for idx, rec in enumerate(user_ratings):\n",
    "        title = movie_title_df.loc[movie_title_df['movieId'] == int(rec[0])]['title']\n",
    "        print('Recommendation # ', idx+1, ': ', title.values[0], '\\n')\n",
    "        n-= 1\n",
    "        if n == 0:\n",
    "            break"
   ]
  },
  {
   "cell_type": "code",
   "execution_count": null,
   "metadata": {},
   "outputs": [],
   "source": [
    "recommended_movies(ranked_movies, movies_df, 5)"
   ]
  },
  {
   "cell_type": "markdown",
   "metadata": {},
   "source": [
    "Combining all into one function:"
   ]
  },
  {
   "cell_type": "code",
   "execution_count": null,
   "metadata": {},
   "outputs": [],
   "source": [
    "def rate_and_rec(ratings_df, movies_df,num, genre=None):\n",
    "        \n",
    "    user_rating = movie_rater(movies_df, num, genre)\n",
    "    \n",
    "    ## add the new ratings to the original ratings DataFrame\n",
    "    user_ratings_df = pd.DataFrame(user_rating)\n",
    "    ratings_df = pd.concat([ratings_df, user_ratings_df], axis=0)\n",
    "    \n",
    "    new_data = Dataset.load_from_df(ratings_df, reader)\n",
    "    best_algo = SVD(n_factors= 200, n_epochs= 80, lr_all= 0.01, reg_all= 0.1)\n",
    "    best_algo.fit(new_data.build_full_trainset())\n",
    "\n",
    "    # make predictions for the user\n",
    "    # create a list of tuples in the format (movie_id, predicted_score)\n",
    "    recc_movies = []\n",
    "    for m_id in ratings_df['movieId'].unique():\n",
    "        prediction = best_algo.predict(1000,m_id)[3]\n",
    "        recc_movies.append( (m_id, prediction) )\n",
    "    \n",
    "    # order the predictions from highest to lowest rated\n",
    "    ranked_movies = sorted(recc_movies, key=lambda x:x[1], reverse = True)\n",
    "    \n",
    "    recommended_movies(ranked_movies,movies_df,5)"
   ]
  },
  {
   "cell_type": "code",
   "execution_count": null,
   "metadata": {},
   "outputs": [],
   "source": [
    "rate_and_rec(ratings_df, movies_df, 5, None)"
   ]
  },
  {
   "cell_type": "markdown",
   "metadata": {},
   "source": [
    "Check out the app code [here.](web_app.py)"
   ]
  }
 ],
 "metadata": {
  "kernelspec": {
   "display_name": "Python 3",
   "language": "python",
   "name": "python3"
  },
  "language_info": {
   "codemirror_mode": {
    "name": "ipython",
    "version": 3
   },
   "file_extension": ".py",
   "mimetype": "text/x-python",
   "name": "python",
   "nbconvert_exporter": "python",
   "pygments_lexer": "ipython3",
   "version": "3.8.5"
  }
 },
 "nbformat": 4,
 "nbformat_minor": 4
}
